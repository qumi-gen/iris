{
 "cells": [
  {
   "cell_type": "code",
   "execution_count": 1,
   "metadata": {},
   "outputs": [],
   "source": [
    "import numpy as np\n",
    "import numpy.random as random\n",
    "import scipy as sp\n",
    "import pandas as pd \n",
    "from pandas import Series, DataFrame"
   ]
  },
  {
   "cell_type": "code",
   "execution_count": 2,
   "metadata": {},
   "outputs": [
    {
     "data": {
      "text/html": [
       "<div>\n",
       "<style scoped>\n",
       "    .dataframe tbody tr th:only-of-type {\n",
       "        vertical-align: middle;\n",
       "    }\n",
       "\n",
       "    .dataframe tbody tr th {\n",
       "        vertical-align: top;\n",
       "    }\n",
       "\n",
       "    .dataframe thead th {\n",
       "        text-align: right;\n",
       "    }\n",
       "</style>\n",
       "<table border=\"1\" class=\"dataframe\">\n",
       "  <thead>\n",
       "    <tr style=\"text-align: right;\">\n",
       "      <th></th>\n",
       "      <th>sepal length (cm)</th>\n",
       "      <th>sepal width (cm)</th>\n",
       "      <th>petal length (cm)</th>\n",
       "      <th>petal width (cm)</th>\n",
       "      <th>target</th>\n",
       "    </tr>\n",
       "  </thead>\n",
       "  <tbody>\n",
       "    <tr>\n",
       "      <th>0</th>\n",
       "      <td>5.1</td>\n",
       "      <td>3.5</td>\n",
       "      <td>1.4</td>\n",
       "      <td>0.2</td>\n",
       "      <td>setosa</td>\n",
       "    </tr>\n",
       "    <tr>\n",
       "      <th>1</th>\n",
       "      <td>4.9</td>\n",
       "      <td>3.0</td>\n",
       "      <td>1.4</td>\n",
       "      <td>0.2</td>\n",
       "      <td>setosa</td>\n",
       "    </tr>\n",
       "    <tr>\n",
       "      <th>2</th>\n",
       "      <td>4.7</td>\n",
       "      <td>3.2</td>\n",
       "      <td>1.3</td>\n",
       "      <td>0.2</td>\n",
       "      <td>setosa</td>\n",
       "    </tr>\n",
       "    <tr>\n",
       "      <th>3</th>\n",
       "      <td>4.6</td>\n",
       "      <td>3.1</td>\n",
       "      <td>1.5</td>\n",
       "      <td>0.2</td>\n",
       "      <td>setosa</td>\n",
       "    </tr>\n",
       "    <tr>\n",
       "      <th>4</th>\n",
       "      <td>5.0</td>\n",
       "      <td>3.6</td>\n",
       "      <td>1.4</td>\n",
       "      <td>0.2</td>\n",
       "      <td>setosa</td>\n",
       "    </tr>\n",
       "  </tbody>\n",
       "</table>\n",
       "</div>"
      ],
      "text/plain": [
       "   sepal length (cm)  sepal width (cm)  petal length (cm)  petal width (cm)  \\\n",
       "0                5.1               3.5                1.4               0.2   \n",
       "1                4.9               3.0                1.4               0.2   \n",
       "2                4.7               3.2                1.3               0.2   \n",
       "3                4.6               3.1                1.5               0.2   \n",
       "4                5.0               3.6                1.4               0.2   \n",
       "\n",
       "   target  \n",
       "0  setosa  \n",
       "1  setosa  \n",
       "2  setosa  \n",
       "3  setosa  \n",
       "4  setosa  "
      ]
     },
     "execution_count": 2,
     "metadata": {},
     "output_type": "execute_result"
    }
   ],
   "source": [
    "# 学習用データとテストデータに分けるためのモジュール（正解率を出すため）\n",
    "from sklearn.model_selection import train_test_split# アヤメの花(学習するデータ)\n",
    "from sklearn.datasets import load_iris# アヤメの花データ(150個)\n",
    "iris = load_iris()# irisをDataFrameで扱う。\n",
    "df = pd.DataFrame(iris.data, columns=iris.feature_names)# アヤメの種別(ラベル)を追加\n",
    "df[\"target\"] = iris.target_names[iris.target]# 引数で表示数を変更できます。defaultは5\n",
    "df.head()"
   ]
  },
  {
   "cell_type": "code",
   "execution_count": 8,
   "metadata": {},
   "outputs": [],
   "source": [
    "# 説明変数X(特徴量4つ×150)と目的変数Y(アヤメの種類×150)に分ける\n",
    "#ここから学習用データとテスト用データに分ける。random_stateは乱数を固定\n",
    "X = df.drop('target', axis=1)\n",
    "Y = df['target'] \n",
    "X_train, X_test, y_train, y_test = train_test_split(X, Y, random_state=0)"
   ]
  },
  {
   "cell_type": "code",
   "execution_count": 10,
   "metadata": {},
   "outputs": [
    {
     "name": "stdout",
     "output_type": "stream",
     "text": [
      "train score: 0.9642857142857143\n",
      "test score: 0.9736842105263158\n"
     ]
    }
   ],
   "source": [
    "# k-近傍法（k-NN）\n",
    "from sklearn.neighbors import KNeighborsClassifier#k-NNインスタンス。今回は3個で多数決。3の値を変更して色々試すと〇\n",
    "model = KNeighborsClassifier(n_neighbors=3)#学習モデル構築。引数に訓練データの特徴量と、それに対応したラベル\n",
    "model.fit(X_train, y_train)# .scoreで正解率を算出。\n",
    "print(\"train score:\",model.score(X_train,y_train))\n",
    "print(\"test score:\",model.score(X_test,y_test))"
   ]
  },
  {
   "cell_type": "code",
   "execution_count": 11,
   "metadata": {},
   "outputs": [
    {
     "name": "stdout",
     "output_type": "stream",
     "text": [
      "train score: 0.9732142857142857\n",
      "test score: 0.9736842105263158\n"
     ]
    }
   ],
   "source": [
    "# k-近傍法（k-NN）\n",
    "from sklearn.neighbors import KNeighborsClassifier#k-NNインスタンス。今回は3個で多数決。3の値を変更して色々試すと〇\n",
    "model = KNeighborsClassifier(n_neighbors=4)#学習モデル構築。引数に訓練データの特徴量と、それに対応したラベル\n",
    "model.fit(X_train, y_train)# .scoreで正解率を算出。\n",
    "print(\"train score:\",model.score(X_train,y_train))\n",
    "print(\"test score:\",model.score(X_test,y_test))"
   ]
  },
  {
   "cell_type": "code",
   "execution_count": 12,
   "metadata": {},
   "outputs": [
    {
     "name": "stdout",
     "output_type": "stream",
     "text": [
      "train score: 0.9642857142857143\n",
      "test score: 0.9736842105263158\n"
     ]
    }
   ],
   "source": [
    "# k-近傍法（k-NN）\n",
    "from sklearn.neighbors import KNeighborsClassifier#k-NNインスタンス。今回は3個で多数決。3の値を変更して色々試すと〇\n",
    "model = KNeighborsClassifier(n_neighbors=2)#学習モデル構築。引数に訓練データの特徴量と、それに対応したラベル\n",
    "model.fit(X_train, y_train)# .scoreで正解率を算出。\n",
    "print(\"train score:\",model.score(X_train,y_train))\n",
    "print(\"test score:\",model.score(X_test,y_test))"
   ]
  },
  {
   "cell_type": "code",
   "execution_count": 13,
   "metadata": {},
   "outputs": [
    {
     "name": "stdout",
     "output_type": "stream",
     "text": [
      "train score: 0.9732142857142857\n",
      "test score: 0.9736842105263158\n"
     ]
    }
   ],
   "source": [
    "# k-近傍法（k-NN）\n",
    "from sklearn.neighbors import KNeighborsClassifier#k-NNインスタンス。今回は3個で多数決。3の値を変更して色々試すと〇\n",
    "model = KNeighborsClassifier(n_neighbors=5)#学習モデル構築。引数に訓練データの特徴量と、それに対応したラベル\n",
    "model.fit(X_train, y_train)# .scoreで正解率を算出。\n",
    "print(\"train score:\",model.score(X_train,y_train))\n",
    "print(\"test score:\",model.score(X_test,y_test))"
   ]
  },
  {
   "cell_type": "code",
   "execution_count": 14,
   "metadata": {},
   "outputs": [
    {
     "name": "stdout",
     "output_type": "stream",
     "text": [
      "train score: 0.9642857142857143\n",
      "test score: 0.9736842105263158\n"
     ]
    }
   ],
   "source": [
    "# k-近傍法（k-NN）\n",
    "from sklearn.neighbors import KNeighborsClassifier#k-NNインスタンス。今回は3個で多数決。3の値を変更して色々試すと〇\n",
    "model = KNeighborsClassifier(n_neighbors=6)#学習モデル構築。引数に訓練データの特徴量と、それに対応したラベル\n",
    "model.fit(X_train, y_train)# .scoreで正解率を算出。\n",
    "print(\"train score:\",model.score(X_train,y_train))\n",
    "print(\"test score:\",model.score(X_test,y_test))"
   ]
  },
  {
   "cell_type": "code",
   "execution_count": 15,
   "metadata": {},
   "outputs": [
    {
     "data": {
      "text/plain": [
       "array(['setosa'], dtype=object)"
      ]
     },
     "execution_count": 15,
     "metadata": {},
     "output_type": "execute_result"
    }
   ],
   "source": [
    "data = [[5.2, 3.0, 1.5, 0.6]]# 構築したモデルからアヤメの種類を求める\n",
    "model.predict(data)"
   ]
  },
  {
   "cell_type": "code",
   "execution_count": 16,
   "metadata": {},
   "outputs": [
    {
     "name": "stdout",
     "output_type": "stream",
     "text": [
      "train score: 0.9821428571428571\n",
      "test score: 0.9736842105263158\n"
     ]
    }
   ],
   "source": [
    "# 決定木\n",
    "from sklearn.tree import DecisionTreeClassifier# 決定木インスタンス(木の深さ3)\n",
    "model = DecisionTreeClassifier(max_depth=3)#学習モデル構築。引数に訓練データの特徴量と、それに対応したラベル\n",
    "model.fit(X_train, y_train)# .scoreで正解率を算出。\n",
    "print(\"train score:\",model.score(X_train,y_train))\n",
    "print(\"test score:\",model.score(X_test,y_test))"
   ]
  },
  {
   "cell_type": "code",
   "execution_count": 17,
   "metadata": {},
   "outputs": [
    {
     "name": "stdout",
     "output_type": "stream",
     "text": [
      "train score: 0.9642857142857143\n",
      "test score: 0.8947368421052632\n"
     ]
    }
   ],
   "source": [
    "# 決定木\n",
    "from sklearn.tree import DecisionTreeClassifier# 決定木インスタンス(木の深さ3)\n",
    "model = DecisionTreeClassifier(max_depth=2)#学習モデル構築。引数に訓練データの特徴量と、それに対応したラベル\n",
    "model.fit(X_train, y_train)# .scoreで正解率を算出。\n",
    "print(\"train score:\",model.score(X_train,y_train))\n",
    "print(\"test score:\",model.score(X_test,y_test))"
   ]
  },
  {
   "cell_type": "code",
   "execution_count": 18,
   "metadata": {},
   "outputs": [
    {
     "name": "stdout",
     "output_type": "stream",
     "text": [
      "train score: 1.0\n",
      "test score: 0.9736842105263158\n"
     ]
    }
   ],
   "source": [
    "# 決定木\n",
    "from sklearn.tree import DecisionTreeClassifier# 決定木インスタンス(木の深さ3)\n",
    "model = DecisionTreeClassifier(max_depth=4)#学習モデル構築。引数に訓練データの特徴量と、それに対応したラベル\n",
    "model.fit(X_train, y_train)# .scoreで正解率を算出。\n",
    "print(\"train score:\",model.score(X_train,y_train))\n",
    "print(\"test score:\",model.score(X_test,y_test))"
   ]
  },
  {
   "cell_type": "code",
   "execution_count": 19,
   "metadata": {},
   "outputs": [
    {
     "data": {
      "text/plain": [
       "array(['setosa'], dtype=object)"
      ]
     },
     "execution_count": 19,
     "metadata": {},
     "output_type": "execute_result"
    }
   ],
   "source": [
    "data = [[5.2, 3.0, 1.5, 0.6]]# 構築したモデルからアヤメの種類を求める\n",
    "model.predict(data)"
   ]
  },
  {
   "cell_type": "code",
   "execution_count": 20,
   "metadata": {},
   "outputs": [
    {
     "name": "stdout",
     "output_type": "stream",
     "text": [
      "train score: 0.9821428571428571\n",
      "test score: 0.9210526315789473\n"
     ]
    },
    {
     "name": "stderr",
     "output_type": "stream",
     "text": [
      "/home/tatsu/.pyenv/versions/3.6.3/lib/python3.6/site-packages/sklearn/svm/base.py:929: ConvergenceWarning: Liblinear failed to converge, increase the number of iterations.\n",
      "  \"the number of iterations.\", ConvergenceWarning)\n"
     ]
    }
   ],
   "source": [
    "# サポートベクターマシン（SVM）\n",
    "from sklearn.svm import LinearSVC# SVMインスタンス\n",
    "model = LinearSVC()#学習モデル構築。引数に訓練データの特徴量と、それに対応したラベル\n",
    "model.fit(X_train, y_train)# .scoreで正解率を算出。\n",
    "print(\"train score:\",model.score(X_train,y_train))\n",
    "print(\"test score:\",model.score(X_test,y_test))"
   ]
  },
  {
   "cell_type": "code",
   "execution_count": 21,
   "metadata": {},
   "outputs": [
    {
     "data": {
      "text/plain": [
       "array(['setosa'], dtype=object)"
      ]
     },
     "execution_count": 21,
     "metadata": {},
     "output_type": "execute_result"
    }
   ],
   "source": [
    "data = [[5.2, 3.0, 1.5, 0.6]]# 構築したモデルからアヤメの種類を求める\n",
    "model.predict(data)"
   ]
  },
  {
   "cell_type": "code",
   "execution_count": 22,
   "metadata": {},
   "outputs": [
    {
     "name": "stdout",
     "output_type": "stream",
     "text": [
      "train score: 0.9464285714285714\n",
      "test score: 0.868421052631579\n"
     ]
    },
    {
     "name": "stderr",
     "output_type": "stream",
     "text": [
      "/home/tatsu/.pyenv/versions/3.6.3/lib/python3.6/site-packages/sklearn/linear_model/logistic.py:432: FutureWarning: Default solver will be changed to 'lbfgs' in 0.22. Specify a solver to silence this warning.\n",
      "  FutureWarning)\n",
      "/home/tatsu/.pyenv/versions/3.6.3/lib/python3.6/site-packages/sklearn/linear_model/logistic.py:469: FutureWarning: Default multi_class will be changed to 'auto' in 0.22. Specify the multi_class option to silence this warning.\n",
      "  \"this warning.\", FutureWarning)\n"
     ]
    }
   ],
   "source": [
    "# ロジスティック回帰\n",
    "from sklearn.linear_model import LogisticRegression# ロジスティック回帰インスタンス\n",
    "model = LogisticRegression()#学習モデル構築。引数に訓練データの特徴量と、それに対応したラベル\n",
    "model.fit(X_train, y_train)# .scoreで正解率を算出。\n",
    "print(\"train score:\",model.score(X_train,y_train))\n",
    "print(\"test score:\",model.score(X_test,y_test))"
   ]
  },
  {
   "cell_type": "code",
   "execution_count": 23,
   "metadata": {},
   "outputs": [
    {
     "data": {
      "text/plain": [
       "array(['setosa'], dtype=object)"
      ]
     },
     "execution_count": 23,
     "metadata": {},
     "output_type": "execute_result"
    }
   ],
   "source": [
    "data = [[5.2, 3.0, 1.5, 0.6]]# 構築したモデルからアヤメの種類を求める\n",
    "model.predict(data)"
   ]
  },
  {
   "cell_type": "code",
   "execution_count": null,
   "metadata": {},
   "outputs": [],
   "source": []
  }
 ],
 "metadata": {
  "kernelspec": {
   "display_name": "Python 3",
   "language": "python",
   "name": "python3"
  },
  "language_info": {
   "codemirror_mode": {
    "name": "ipython",
    "version": 3
   },
   "file_extension": ".py",
   "mimetype": "text/x-python",
   "name": "python",
   "nbconvert_exporter": "python",
   "pygments_lexer": "ipython3",
   "version": "3.6.3"
  }
 },
 "nbformat": 4,
 "nbformat_minor": 2
}
